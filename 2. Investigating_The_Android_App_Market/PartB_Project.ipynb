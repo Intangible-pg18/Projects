{
 "cells": [
  {
   "cell_type": "markdown",
   "metadata": {
    "dc": {
     "key": "4"
    },
    "deletable": false,
    "editable": false,
    "run_control": {
     "frozen": true
    },
    "tags": [
     "context"
    ]
   },
   "source": [
    "## 1. Introduction\n",
    "<p><img src=\"https://assets.datacamp.com/production/project_1197/img/google_play_store.png\" alt=\"Google Play logo\"></p>\n",
    "<p>Mobile apps are everywhere. They are easy to create and can be very lucrative from the business standpoint. Specifically, Android is expanding as an operating system and has captured more than 74% of the total market<sup><a href=\"https://www.statista.com/statistics/272698/global-market-share-held-by-mobile-operating-systems-since-2009\">[1]</a></sup>. </p>\n",
    "<p>The Google Play Store apps data has enormous potential to facilitate data-driven decisions and insights for businesses. In this notebook, we will analyze the Android app market by comparing ~10k apps in Google Play across different categories. We will also use the user reviews to draw a qualitative comparision between the apps.</p>\n",
    "<p>The dataset you will use here was scraped from Google Play Store in September 2018 and was published on <a href=\"https://www.kaggle.com/lava18/google-play-store-apps\">Kaggle</a>. Here are the details: <br>\n",
    "<br></p>\n",
    "<div style=\"background-color: #efebe4; color: #05192d; text-align:left; vertical-align: middle; padding: 15px 25px 15px 25px; line-height: 1.6;\">\n",
    "    <div style=\"font-size:20px\"><b>datasets/apps.csv</b></div>\n",
    "This file contains all the details of the apps on Google Play. There are 9 features that describe a given app.\n",
    "<ul>\n",
    "    <li><b>App:</b> Name of the app</li>\n",
    "    <li><b>Category:</b> Category of the app. Some examples are: ART_AND_DESIGN, FINANCE, COMICS, BEAUTY etc.</li>\n",
    "    <li><b>Rating:</b> The current average rating (out of 5) of the app on Google Play</li>\n",
    "    <li><b>Reviews:</b> Number of user reviews given on the app</li>\n",
    "    <li><b>Size:</b> Size of the app in MB (megabytes)</li>\n",
    "    <li><b>Installs:</b> Number of times the app was downloaded from Google Play</li>\n",
    "    <li><b>Type:</b> Whether the app is paid or free</li>\n",
    "    <li><b>Price:</b> Price of the app in US$</li>\n",
    "    <li><b>Last Updated:</b> Date on which the app was last updated on Google Play </li>\n",
    "\n",
    "</ul>\n",
    "</div>\n",
    "<div style=\"background-color: #efebe4; color: #05192d; text-align:left; vertical-align: middle; padding: 15px 25px 15px 25px; line-height: 1.6;\">\n",
    "    <div style=\"font-size:20px\"><b>datasets/user_reviews.csv</b></div>\n",
    "This file contains a random sample of 100 <i>[most helpful first](https://www.androidpolice.com/2019/01/21/google-play-stores-redesigned-ratings-and-reviews-section-lets-you-easily-filter-by-star-rating/)</i> user reviews for each app. The text in each review has been pre-processed and passed through a sentiment analyzer.\n",
    "<ul>\n",
    "    <li><b>App:</b> Name of the app on which the user review was provided. Matches the `App` column of the `apps.csv` file</li>\n",
    "    <li><b>Review:</b> The pre-processed user review text</li>\n",
    "    <li><b>Sentiment Category:</b> Sentiment category of the user review - Positive, Negative or Neutral</li>\n",
    "    <li><b>Sentiment Score:</b> Sentiment score of the user review. It lies between [-1,1]. A higher score denotes a more positive sentiment.</li>\n",
    "\n",
    "</ul>\n",
    "</div>\n",
    "<p>From here on, it will be your task to explore and manipulate the data until you are able to answer the three questions described in the instructions panel.<br></p>"
   ]
  },
  {
   "cell_type": "code",
   "execution_count": 3,
   "metadata": {
    "dc": {
     "key": "4"
    },
    "tags": [
     "sample_code"
    ]
   },
   "outputs": [
    {
     "name": "stdout",
     "output_type": "stream",
     "text": [
      "                   App Category  Rating  Reviews  Size  Installs  Type  Price  \\\n",
      "7713  DS Tower Defence     GAME     3.2      768   1.4  100,000+  Free    0.0   \n",
      "\n",
      "      Last Updated  \n",
      "7713  June 5, 2013  \n",
      "*************************************************************\n",
      "<class 'pandas.core.frame.DataFrame'>\n",
      "RangeIndex: 9659 entries, 0 to 9658\n",
      "Data columns (total 9 columns):\n",
      " #   Column        Non-Null Count  Dtype  \n",
      "---  ------        --------------  -----  \n",
      " 0   App           9659 non-null   object \n",
      " 1   Category      9659 non-null   object \n",
      " 2   Rating        8196 non-null   float64\n",
      " 3   Reviews       9659 non-null   int64  \n",
      " 4   Size          8432 non-null   float64\n",
      " 5   Installs      9659 non-null   object \n",
      " 6   Type          9659 non-null   object \n",
      " 7   Price         9659 non-null   float64\n",
      " 8   Last Updated  9659 non-null   object \n",
      "dtypes: float64(3), int64(1), object(5)\n",
      "memory usage: 679.3+ KB\n",
      "None\n"
     ]
    }
   ],
   "source": [
    "import pandas as pd\n",
    "import numpy as np\n",
    "\n",
    "apps=pd.read_csv('datasets/apps.csv')\n",
    "print(apps.sample(n=1))\n",
    "print('*************************************************************')\n",
    "print(apps.info())"
   ]
  },
  {
   "cell_type": "code",
   "execution_count": 4,
   "metadata": {
    "dc": {
     "key": "4"
    }
   },
   "outputs": [
    {
     "name": "stdout",
     "output_type": "stream",
     "text": [
      "                                                           1530\n",
      "App           DEAD TARGET: FPS Zombie Apocalypse Survival Games\n",
      "Category                                                   GAME\n",
      "Rating                                                      4.5\n",
      "Reviews                                                 1468591\n",
      "Size                                                        NaN\n",
      "Installs                                               50000000\n",
      "Type                                                       Free\n",
      "Price                                                         0\n",
      "Last Updated                                      July 23, 2018\n"
     ]
    }
   ],
   "source": [
    "apps['Installs']=apps['Installs'].str.replace('[+,]','').astype('int')\n",
    "\n",
    "print(apps.sample(n=1).T)"
   ]
  },
  {
   "cell_type": "code",
   "execution_count": 5,
   "metadata": {
    "dc": {
     "key": "4"
    }
   },
   "outputs": [
    {
     "name": "stdout",
     "output_type": "stream",
     "text": [
      "               Category  Number of apps  Average price  Average rating\n",
      "0        ART_AND_DESIGN              64       0.093281        4.357377\n",
      "1     AUTO_AND_VEHICLES              85       0.158471        4.190411\n",
      "2                BEAUTY              53       0.000000        4.278571\n",
      "3   BOOKS_AND_REFERENCE             222       0.539505        4.344970\n",
      "4              BUSINESS             420       0.417357        4.098479\n",
      "5                COMICS              56       0.000000        4.181481\n",
      "6         COMMUNICATION             315       0.263937        4.121484\n",
      "7                DATING             171       0.160468        3.970149\n",
      "8             EDUCATION             119       0.150924        4.364407\n",
      "9         ENTERTAINMENT             102       0.078235        4.135294\n",
      "10               EVENTS              64       1.718594        4.435556\n",
      "11               FAMILY            1832       1.309967        4.179664\n",
      "12              FINANCE             345       8.408203        4.115563\n",
      "13       FOOD_AND_DRINK             112       0.075714        4.172340\n",
      "14                 GAME             959       0.296465        4.247368\n",
      "15   HEALTH_AND_FITNESS             288       0.223438        4.243033\n",
      "16       HOUSE_AND_HOME              74       0.000000        4.150000\n",
      "17   LIBRARIES_AND_DEMO              84       0.011786        4.178125\n",
      "18            LIFESTYLE             369       6.398022        4.093355\n",
      "19  MAPS_AND_NAVIGATION             131       0.205725        4.036441\n",
      "20              MEDICAL             395       2.520759        4.166552\n",
      "21   NEWS_AND_MAGAZINES             254       0.015669        4.121569\n",
      "22            PARENTING              60       0.159667        4.300000\n",
      "23      PERSONALIZATION             376       0.400213        4.332215\n",
      "24          PHOTOGRAPHY             281       0.420925        4.157414\n",
      "25         PRODUCTIVITY             374       0.670936        4.183389\n",
      "26             SHOPPING             202       0.027129        4.230000\n",
      "27               SOCIAL             239       0.066820        4.247291\n",
      "28               SPORTS             325       0.307692        4.216154\n",
      "29                TOOLS             827       0.323156        4.039554\n",
      "30     TRAVEL_AND_LOCAL             219       0.228082        4.069519\n",
      "31        VIDEO_PLAYERS             163       0.064172        4.044595\n",
      "32              WEATHER              79       0.410380        4.243056\n"
     ]
    }
   ],
   "source": [
    "app_category_info=apps.groupby('Category').agg({'App':'count','Price':'mean','Rating':'mean'})\n",
    "app_category_info=app_category_info.rename(columns={'App':'Number of apps','Price':'Average price','Rating':'Average rating'})\n",
    "app_category_info.reset_index(level=0, inplace=True)\n",
    "print(app_category_info)"
   ]
  },
  {
   "cell_type": "code",
   "execution_count": 6,
   "metadata": {
    "dc": {
     "key": "4"
    }
   },
   "outputs": [
    {
     "name": "stdout",
     "output_type": "stream",
     "text": [
      "Index(['App', 'Category', 'Rating', 'Reviews', 'Size', 'Installs', 'Type',\n",
      "       'Price', 'Last Updated', 'Review', 'Sentiment Category',\n",
      "       'Sentiment Score'],\n",
      "      dtype='object')\n",
      "*************************************************************\n",
      "                                App Category  Rating  Reviews  Size  Installs  \\\n",
      "14112             Citibanamex Movil  FINANCE     3.6    52306  42.0   5000000   \n",
      "14113             Citibanamex Movil  FINANCE     3.6    52306  42.0   5000000   \n",
      "14114             Citibanamex Movil  FINANCE     3.6    52306  42.0   5000000   \n",
      "14115             Citibanamex Movil  FINANCE     3.6    52306  42.0   5000000   \n",
      "14116             Citibanamex Movil  FINANCE     3.6    52306  42.0   5000000   \n",
      "...                             ...      ...     ...      ...   ...       ...   \n",
      "60231  Fortune City - A Finance App  FINANCE     4.6    49275  91.0    500000   \n",
      "60232  Fortune City - A Finance App  FINANCE     4.6    49275  91.0    500000   \n",
      "60233  Fortune City - A Finance App  FINANCE     4.6    49275  91.0    500000   \n",
      "60234  Fortune City - A Finance App  FINANCE     4.6    49275  91.0    500000   \n",
      "60235  Fortune City - A Finance App  FINANCE     4.6    49275  91.0    500000   \n",
      "\n",
      "       Type  Price   Last Updated  \\\n",
      "14112  Free    0.0  July 27, 2018   \n",
      "14113  Free    0.0  July 27, 2018   \n",
      "14114  Free    0.0  July 27, 2018   \n",
      "14115  Free    0.0  July 27, 2018   \n",
      "14116  Free    0.0  July 27, 2018   \n",
      "...     ...    ...            ...   \n",
      "60231  Free    0.0  July 17, 2018   \n",
      "60232  Free    0.0  July 17, 2018   \n",
      "60233  Free    0.0  July 17, 2018   \n",
      "60234  Free    0.0  July 17, 2018   \n",
      "60235  Free    0.0  July 17, 2018   \n",
      "\n",
      "                                                  Review Sentiment Category  \\\n",
      "14112  Forget paying app, designed make fail payments...           Negative   \n",
      "14113  It's working expected, talking best bank Mexic...           Positive   \n",
      "14114  It has many problems with Android 8.1. You can...           Positive   \n",
      "14115  I changed my phone to a Xiaomi Redmi Note 5, t...           Positive   \n",
      "14116  In her eagerness to make her look pretty with ...           Negative   \n",
      "...                                                  ...                ...   \n",
      "60231                                                NaN                NaN   \n",
      "60232                                                NaN                NaN   \n",
      "60233                                                NaN                NaN   \n",
      "60234                                                NaN                NaN   \n",
      "60235                                                NaN                NaN   \n",
      "\n",
      "       Sentiment Score  \n",
      "14112        -0.500000  \n",
      "14113         0.400000  \n",
      "14114         0.250000  \n",
      "14115         0.175000  \n",
      "14116        -0.158333  \n",
      "...                ...  \n",
      "60231              NaN  \n",
      "60232              NaN  \n",
      "60233              NaN  \n",
      "60234              NaN  \n",
      "60235              NaN  \n",
      "\n",
      "[2200 rows x 12 columns]\n"
     ]
    },
    {
     "name": "stderr",
     "output_type": "stream",
     "text": [
      "<ipython-input-6-5fff2c019805>:5: UserWarning: Boolean Series key will be reindexed to match DataFrame index.\n",
      "  filtered_merged_df=merged_df[merged_df['Category']=='FINANCE'][merged_df['Type']=='Free']\n"
     ]
    }
   ],
   "source": [
    "df2=pd.read_csv('datasets/user_reviews.csv')\n",
    "merged_df=apps.merge(df2,on='App')\n",
    "print(merged_df.columns)\n",
    "print('*************************************************************')\n",
    "filtered_merged_df=merged_df[merged_df['Category']=='FINANCE'][merged_df['Type']=='Free']\n",
    "print(filtered_merged_df)"
   ]
  },
  {
   "cell_type": "code",
   "execution_count": 8,
   "metadata": {
    "dc": {
     "key": "4"
    }
   },
   "outputs": [
    {
     "data": {
      "text/html": [
       "<div>\n",
       "<style scoped>\n",
       "    .dataframe tbody tr th:only-of-type {\n",
       "        vertical-align: middle;\n",
       "    }\n",
       "\n",
       "    .dataframe tbody tr th {\n",
       "        vertical-align: top;\n",
       "    }\n",
       "\n",
       "    .dataframe thead th {\n",
       "        text-align: right;\n",
       "    }\n",
       "</style>\n",
       "<table border=\"1\" class=\"dataframe\">\n",
       "  <thead>\n",
       "    <tr style=\"text-align: right;\">\n",
       "      <th></th>\n",
       "      <th>App</th>\n",
       "      <th>Sentiment Score</th>\n",
       "    </tr>\n",
       "  </thead>\n",
       "  <tbody>\n",
       "    <tr>\n",
       "      <th>0</th>\n",
       "      <td>BBVA Spain</td>\n",
       "      <td>0.515086</td>\n",
       "    </tr>\n",
       "    <tr>\n",
       "      <th>1</th>\n",
       "      <td>Associated Credit Union Mobile</td>\n",
       "      <td>0.388093</td>\n",
       "    </tr>\n",
       "    <tr>\n",
       "      <th>2</th>\n",
       "      <td>BankMobile Vibe App</td>\n",
       "      <td>0.353455</td>\n",
       "    </tr>\n",
       "    <tr>\n",
       "      <th>3</th>\n",
       "      <td>A+ Mobile</td>\n",
       "      <td>0.329592</td>\n",
       "    </tr>\n",
       "    <tr>\n",
       "      <th>4</th>\n",
       "      <td>Current debit card and app made for teens</td>\n",
       "      <td>0.327258</td>\n",
       "    </tr>\n",
       "    <tr>\n",
       "      <th>5</th>\n",
       "      <td>BZWBK24 mobile</td>\n",
       "      <td>0.326883</td>\n",
       "    </tr>\n",
       "    <tr>\n",
       "      <th>6</th>\n",
       "      <td>Even - organize your money, get paid early</td>\n",
       "      <td>0.283929</td>\n",
       "    </tr>\n",
       "    <tr>\n",
       "      <th>7</th>\n",
       "      <td>Credit Karma</td>\n",
       "      <td>0.270052</td>\n",
       "    </tr>\n",
       "    <tr>\n",
       "      <th>8</th>\n",
       "      <td>Fortune City - A Finance App</td>\n",
       "      <td>0.266966</td>\n",
       "    </tr>\n",
       "    <tr>\n",
       "      <th>9</th>\n",
       "      <td>Branch</td>\n",
       "      <td>0.264230</td>\n",
       "    </tr>\n",
       "  </tbody>\n",
       "</table>\n",
       "</div>"
      ],
      "text/plain": [
       "                                          App  Sentiment Score\n",
       "0                                  BBVA Spain         0.515086\n",
       "1              Associated Credit Union Mobile         0.388093\n",
       "2                         BankMobile Vibe App         0.353455\n",
       "3                                   A+ Mobile         0.329592\n",
       "4   Current debit card and app made for teens         0.327258\n",
       "5                              BZWBK24 mobile         0.326883\n",
       "6  Even - organize your money, get paid early         0.283929\n",
       "7                                Credit Karma         0.270052\n",
       "8                Fortune City - A Finance App         0.266966\n",
       "9                                      Branch         0.264230"
      ]
     },
     "execution_count": 8,
     "metadata": {},
     "output_type": "execute_result"
    }
   ],
   "source": [
    "top_10_user_feedback=filtered_merged_df.groupby('App').agg({'Sentiment Score':'mean'}).sort_values(by='Sentiment Score',ascending=False).reset_index(level=0).head(10)\n",
    "top_10_user_feedback"
   ]
  },
  {
   "cell_type": "code",
   "execution_count": null,
   "metadata": {
    "dc": {
     "key": "4"
    }
   },
   "outputs": [],
   "source": []
  },
  {
   "cell_type": "code",
   "execution_count": null,
   "metadata": {
    "dc": {
     "key": "4"
    }
   },
   "outputs": [],
   "source": []
  },
  {
   "cell_type": "code",
   "execution_count": null,
   "metadata": {},
   "outputs": [],
   "source": []
  }
 ],
 "metadata": {
  "kernelspec": {
   "display_name": "Python 3",
   "language": "python",
   "name": "python3"
  },
  "language_info": {
   "codemirror_mode": {
    "name": "ipython",
    "version": 3
   },
   "file_extension": ".py",
   "mimetype": "text/x-python",
   "name": "python",
   "nbconvert_exporter": "python",
   "pygments_lexer": "ipython3",
   "version": "3.8.5"
  }
 },
 "nbformat": 4,
 "nbformat_minor": 2
}
